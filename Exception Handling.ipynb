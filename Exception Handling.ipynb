{
 "cells": [
  {
   "cell_type": "code",
   "execution_count": 1,
   "metadata": {},
   "outputs": [],
   "source": [
    "# make a program ROBUST (Error Free)\n",
    "# catching the exception\n",
    "\n",
    "\n",
    "# error is actually to be solved\n",
    "# exception is a way to take care of that error\n"
   ]
  },
  {
   "cell_type": "markdown",
   "metadata": {},
   "source": [
    "# Types of Error\n",
    "\n",
    "https://docs.python.org/3/library/exceptions.html\n",
    "\n",
    "https://docs.python.org/3/library/logging.html\n",
    "\n",
    "https://realpython.com/python-logging/"
   ]
  },
  {
   "cell_type": "markdown",
   "metadata": {},
   "source": [
    "# 1. Compile Time Error\n",
    "\n",
    "- PVM finds the error while reading the code from top to bottom\n",
    "- It doesnot allow anything to be moved to OUTPUT screen\n",
    "\n",
    "- Indentation Error  (Align wrt LEFT margin)\n",
    "- Syntax error (Any Grammer Error)\n",
    "\n"
   ]
  },
  {
   "cell_type": "code",
   "execution_count": 11,
   "metadata": {},
   "outputs": [
    {
     "ename": "SyntaxError",
     "evalue": "invalid syntax (<ipython-input-11-f3be3b557a79>, line 3)",
     "output_type": "error",
     "traceback": [
      "\u001b[1;36m  File \u001b[1;32m\"<ipython-input-11-f3be3b557a79>\"\u001b[1;36m, line \u001b[1;32m3\u001b[0m\n\u001b[1;33m    for i in range(10)\u001b[0m\n\u001b[1;37m                      ^\u001b[0m\n\u001b[1;31mSyntaxError\u001b[0m\u001b[1;31m:\u001b[0m invalid syntax\n"
     ]
    }
   ],
   "source": [
    "print(\"Start\")\n",
    "\n",
    "for i in range(10)\n",
    "    print(\"Earth\")\n",
    "\n",
    "print(\"End\")\n"
   ]
  },
  {
   "cell_type": "code",
   "execution_count": 12,
   "metadata": {},
   "outputs": [
    {
     "ename": "SyntaxError",
     "evalue": "invalid syntax (<ipython-input-12-ad1b1ec7a96c>, line 6)",
     "output_type": "error",
     "traceback": [
      "\u001b[1;36m  File \u001b[1;32m\"<ipython-input-12-ad1b1ec7a96c>\"\u001b[1;36m, line \u001b[1;32m6\u001b[0m\n\u001b[1;33m    else :\u001b[0m\n\u001b[1;37m    ^\u001b[0m\n\u001b[1;31mSyntaxError\u001b[0m\u001b[1;31m:\u001b[0m invalid syntax\n"
     ]
    }
   ],
   "source": [
    "print(\"Start\")\n",
    "\n",
    "num = 11\n",
    "if num%2 == 0 : \n",
    "    print(\"Even\")\n",
    "    else : \n",
    "        print(\"Odd\")\n",
    "\n",
    "\n",
    "print(\"End\")\n"
   ]
  },
  {
   "cell_type": "markdown",
   "metadata": {},
   "source": [
    "# 2. RunTime Error (Execution)\n",
    "\n",
    "- PVM finds the error while working on the OUTPUT screen\n",
    "\n",
    "\n"
   ]
  },
  {
   "cell_type": "code",
   "execution_count": 13,
   "metadata": {},
   "outputs": [
    {
     "name": "stdout",
     "output_type": "stream",
     "text": [
      "Start\n",
      "['lion', 'tiger']\n"
     ]
    },
    {
     "ename": "IndexError",
     "evalue": "list index out of range",
     "output_type": "error",
     "traceback": [
      "\u001b[1;31m---------------------------------------------------------------------------\u001b[0m",
      "\u001b[1;31mIndexError\u001b[0m                                Traceback (most recent call last)",
      "\u001b[1;32m<ipython-input-13-ae67c8837081>\u001b[0m in \u001b[0;36m<module>\u001b[1;34m\u001b[0m\n\u001b[0;32m      4\u001b[0m \u001b[0manimals\u001b[0m \u001b[1;33m=\u001b[0m \u001b[1;33m[\u001b[0m\u001b[1;34m\"lion\"\u001b[0m\u001b[1;33m,\u001b[0m \u001b[1;34m'tiger'\u001b[0m\u001b[1;33m,\u001b[0m \u001b[1;34m\"zebra\"\u001b[0m\u001b[1;33m,\u001b[0m \u001b[1;34m\"eagle\"\u001b[0m\u001b[1;33m]\u001b[0m\u001b[1;33m\u001b[0m\u001b[1;33m\u001b[0m\u001b[0m\n\u001b[0;32m      5\u001b[0m \u001b[0mprint\u001b[0m\u001b[1;33m(\u001b[0m\u001b[0manimals\u001b[0m\u001b[1;33m[\u001b[0m \u001b[1;33m:\u001b[0m \u001b[1;36m2\u001b[0m\u001b[1;33m]\u001b[0m\u001b[1;33m)\u001b[0m\u001b[1;33m\u001b[0m\u001b[1;33m\u001b[0m\u001b[0m\n\u001b[1;32m----> 6\u001b[1;33m \u001b[0mprint\u001b[0m\u001b[1;33m(\u001b[0m\u001b[0manimals\u001b[0m\u001b[1;33m[\u001b[0m\u001b[1;36m4\u001b[0m\u001b[1;33m]\u001b[0m\u001b[1;33m)\u001b[0m\u001b[1;33m\u001b[0m\u001b[1;33m\u001b[0m\u001b[0m\n\u001b[0m\u001b[0;32m      7\u001b[0m \u001b[1;33m\u001b[0m\u001b[0m\n\u001b[0;32m      8\u001b[0m \u001b[1;33m\u001b[0m\u001b[0m\n",
      "\u001b[1;31mIndexError\u001b[0m: list index out of range"
     ]
    }
   ],
   "source": [
    "print(\"Start\")\n",
    "\n",
    "\n",
    "animals = [\"lion\", 'tiger', \"zebra\", \"eagle\"]\n",
    "print(animals[ : 2])\n",
    "print(animals[4])\n",
    "\n",
    "\n",
    "print(\"End\")\n"
   ]
  },
  {
   "cell_type": "code",
   "execution_count": 14,
   "metadata": {},
   "outputs": [
    {
     "name": "stdout",
     "output_type": "stream",
     "text": [
      "Start\n",
      "16.666666666666668\n"
     ]
    },
    {
     "ename": "ZeroDivisionError",
     "evalue": "division by zero",
     "output_type": "error",
     "traceback": [
      "\u001b[1;31m---------------------------------------------------------------------------\u001b[0m",
      "\u001b[1;31mZeroDivisionError\u001b[0m                         Traceback (most recent call last)",
      "\u001b[1;32m<ipython-input-14-85e9ce3f4a2d>\u001b[0m in \u001b[0;36m<module>\u001b[1;34m\u001b[0m\n\u001b[0;32m      2\u001b[0m \u001b[1;33m\u001b[0m\u001b[0m\n\u001b[0;32m      3\u001b[0m \u001b[0mprint\u001b[0m\u001b[1;33m(\u001b[0m\u001b[1;36m100\u001b[0m \u001b[1;33m/\u001b[0m \u001b[1;36m6\u001b[0m\u001b[1;33m)\u001b[0m\u001b[1;33m\u001b[0m\u001b[1;33m\u001b[0m\u001b[0m\n\u001b[1;32m----> 4\u001b[1;33m \u001b[0mprint\u001b[0m\u001b[1;33m(\u001b[0m\u001b[1;36m100\u001b[0m \u001b[1;33m/\u001b[0m \u001b[1;36m0\u001b[0m\u001b[1;33m)\u001b[0m\u001b[1;33m\u001b[0m\u001b[1;33m\u001b[0m\u001b[0m\n\u001b[0m\u001b[0;32m      5\u001b[0m \u001b[1;33m\u001b[0m\u001b[0m\n\u001b[0;32m      6\u001b[0m \u001b[0mprint\u001b[0m\u001b[1;33m(\u001b[0m\u001b[1;34m\"End\"\u001b[0m\u001b[1;33m)\u001b[0m\u001b[1;33m\u001b[0m\u001b[1;33m\u001b[0m\u001b[0m\n",
      "\u001b[1;31mZeroDivisionError\u001b[0m: division by zero"
     ]
    }
   ],
   "source": [
    "print(\"Start\")\n",
    "\n",
    "print(100 / 6)\n",
    "print(100 / 0)\n",
    "\n",
    "print(\"End\")"
   ]
  },
  {
   "cell_type": "code",
   "execution_count": null,
   "metadata": {},
   "outputs": [],
   "source": []
  },
  {
   "cell_type": "code",
   "execution_count": 15,
   "metadata": {},
   "outputs": [
    {
     "name": "stdout",
     "output_type": "stream",
     "text": [
      "Start\n"
     ]
    },
    {
     "ename": "FileNotFoundError",
     "evalue": "[Errno 2] No such file or directory: 'myFile.txt'",
     "output_type": "error",
     "traceback": [
      "\u001b[1;31m---------------------------------------------------------------------------\u001b[0m",
      "\u001b[1;31mFileNotFoundError\u001b[0m                         Traceback (most recent call last)",
      "\u001b[1;32m<ipython-input-15-28afd38353f0>\u001b[0m in \u001b[0;36m<module>\u001b[1;34m\u001b[0m\n\u001b[0;32m      1\u001b[0m \u001b[0mprint\u001b[0m\u001b[1;33m(\u001b[0m\u001b[1;34m\"Start\"\u001b[0m\u001b[1;33m)\u001b[0m\u001b[1;33m\u001b[0m\u001b[1;33m\u001b[0m\u001b[0m\n\u001b[0;32m      2\u001b[0m \u001b[1;33m\u001b[0m\u001b[0m\n\u001b[1;32m----> 3\u001b[1;33m \u001b[0mf\u001b[0m \u001b[1;33m=\u001b[0m \u001b[0mopen\u001b[0m\u001b[1;33m(\u001b[0m\u001b[1;34m\"myFile.txt\"\u001b[0m\u001b[1;33m,\u001b[0m \u001b[1;34m\"r\"\u001b[0m\u001b[1;33m)\u001b[0m\u001b[1;33m\u001b[0m\u001b[1;33m\u001b[0m\u001b[0m\n\u001b[0m\u001b[0;32m      4\u001b[0m \u001b[0mprint\u001b[0m\u001b[1;33m(\u001b[0m\u001b[0mf\u001b[0m\u001b[1;33m.\u001b[0m\u001b[0mread\u001b[0m\u001b[1;33m(\u001b[0m\u001b[1;33m)\u001b[0m\u001b[1;33m)\u001b[0m\u001b[1;33m\u001b[0m\u001b[1;33m\u001b[0m\u001b[0m\n\u001b[0;32m      5\u001b[0m \u001b[0mf\u001b[0m\u001b[1;33m.\u001b[0m\u001b[0mclose\u001b[0m\u001b[1;33m(\u001b[0m\u001b[1;33m)\u001b[0m\u001b[1;33m\u001b[0m\u001b[1;33m\u001b[0m\u001b[0m\n",
      "\u001b[1;31mFileNotFoundError\u001b[0m: [Errno 2] No such file or directory: 'myFile.txt'"
     ]
    }
   ],
   "source": [
    "print(\"Start\")\n",
    "\n",
    "f = open(\"myFile.txt\", \"r\")\n",
    "print(f.read())\n",
    "f.close()\n",
    "\n",
    "\n",
    "print(\"End\")"
   ]
  },
  {
   "cell_type": "code",
   "execution_count": 16,
   "metadata": {},
   "outputs": [
    {
     "ename": "FileExistsError",
     "evalue": "[WinError 183] Cannot create a file when that file already exists: 'delhi'",
     "output_type": "error",
     "traceback": [
      "\u001b[1;31m---------------------------------------------------------------------------\u001b[0m",
      "\u001b[1;31mFileExistsError\u001b[0m                           Traceback (most recent call last)",
      "\u001b[1;32m<ipython-input-16-d004169779bd>\u001b[0m in \u001b[0;36m<module>\u001b[1;34m\u001b[0m\n\u001b[0;32m      1\u001b[0m \u001b[1;32mimport\u001b[0m \u001b[0mos\u001b[0m\u001b[1;33m\u001b[0m\u001b[1;33m\u001b[0m\u001b[0m\n\u001b[0;32m      2\u001b[0m \u001b[1;33m\u001b[0m\u001b[0m\n\u001b[1;32m----> 3\u001b[1;33m \u001b[0mos\u001b[0m\u001b[1;33m.\u001b[0m\u001b[0mmkdir\u001b[0m\u001b[1;33m(\u001b[0m\u001b[1;34m\"delhi\"\u001b[0m\u001b[1;33m)\u001b[0m\u001b[1;33m\u001b[0m\u001b[1;33m\u001b[0m\u001b[0m\n\u001b[0m",
      "\u001b[1;31mFileExistsError\u001b[0m: [WinError 183] Cannot create a file when that file already exists: 'delhi'"
     ]
    }
   ],
   "source": [
    "import os\n",
    "\n",
    "os.mkdir(\"delhi\")\n"
   ]
  },
  {
   "cell_type": "code",
   "execution_count": 17,
   "metadata": {},
   "outputs": [
    {
     "ename": "ModuleNotFoundError",
     "evalue": "No module named 'parents'",
     "output_type": "error",
     "traceback": [
      "\u001b[1;31m---------------------------------------------------------------------------\u001b[0m",
      "\u001b[1;31mModuleNotFoundError\u001b[0m                       Traceback (most recent call last)",
      "\u001b[1;32m<ipython-input-17-801fd2e8c740>\u001b[0m in \u001b[0;36m<module>\u001b[1;34m\u001b[0m\n\u001b[1;32m----> 1\u001b[1;33m \u001b[1;32mimport\u001b[0m \u001b[0mparents\u001b[0m\u001b[1;33m\u001b[0m\u001b[1;33m\u001b[0m\u001b[0m\n\u001b[0m\u001b[0;32m      2\u001b[0m \u001b[1;33m\u001b[0m\u001b[0m\n\u001b[0;32m      3\u001b[0m \u001b[0mprint\u001b[0m\u001b[1;33m(\u001b[0m\u001b[0mparents\u001b[0m\u001b[1;33m.\u001b[0m\u001b[0mgetDateTime\u001b[0m\u001b[1;33m(\u001b[0m\u001b[1;33m)\u001b[0m\u001b[1;33m)\u001b[0m\u001b[1;33m\u001b[0m\u001b[1;33m\u001b[0m\u001b[0m\n",
      "\u001b[1;31mModuleNotFoundError\u001b[0m: No module named 'parents'"
     ]
    }
   ],
   "source": [
    "import parents\n",
    "\n",
    "print(parents.getDateTime())"
   ]
  },
  {
   "cell_type": "code",
   "execution_count": 18,
   "metadata": {},
   "outputs": [
    {
     "ename": "ModuleNotFoundError",
     "evalue": "No module named 'maths'",
     "output_type": "error",
     "traceback": [
      "\u001b[1;31m---------------------------------------------------------------------------\u001b[0m",
      "\u001b[1;31mModuleNotFoundError\u001b[0m                       Traceback (most recent call last)",
      "\u001b[1;32m<ipython-input-18-8a1a323851d5>\u001b[0m in \u001b[0;36m<module>\u001b[1;34m\u001b[0m\n\u001b[1;32m----> 1\u001b[1;33m \u001b[1;32mimport\u001b[0m \u001b[0mmaths\u001b[0m\u001b[1;33m\u001b[0m\u001b[1;33m\u001b[0m\u001b[0m\n\u001b[0m\u001b[0;32m      2\u001b[0m \u001b[1;33m\u001b[0m\u001b[0m\n\u001b[0;32m      3\u001b[0m \u001b[0mprint\u001b[0m\u001b[1;33m(\u001b[0m \u001b[0mmaths\u001b[0m\u001b[1;33m.\u001b[0m\u001b[0msqrt\u001b[0m\u001b[1;33m(\u001b[0m\u001b[1;36m100\u001b[0m\u001b[1;33m)\u001b[0m \u001b[1;33m)\u001b[0m\u001b[1;33m\u001b[0m\u001b[1;33m\u001b[0m\u001b[0m\n\u001b[0;32m      4\u001b[0m \u001b[1;33m\u001b[0m\u001b[0m\n",
      "\u001b[1;31mModuleNotFoundError\u001b[0m: No module named 'maths'"
     ]
    }
   ],
   "source": [
    "import maths\n",
    "\n",
    "print( maths.sqrt(100) )\n",
    "\n"
   ]
  },
  {
   "cell_type": "markdown",
   "metadata": {},
   "source": [
    "## Blocks of Exception Handling"
   ]
  },
  {
   "cell_type": "markdown",
   "metadata": {},
   "source": [
    "### try ~ if\n",
    "\n",
    "-  write the complete program, where there is prpbability of error\n",
    "\n"
   ]
  },
  {
   "cell_type": "markdown",
   "metadata": {},
   "source": [
    "### exception ~ else\n",
    "\n",
    "- write a code to take care of specific error\n"
   ]
  },
  {
   "cell_type": "markdown",
   "metadata": {},
   "source": [
    "### Finally\n",
    "\n",
    "- always executed\n",
    "- end the program with some last TASK\n",
    "- DELETE the junk files\n",
    "- greet the customer"
   ]
  },
  {
   "cell_type": "code",
   "execution_count": null,
   "metadata": {},
   "outputs": [],
   "source": []
  },
  {
   "cell_type": "markdown",
   "metadata": {},
   "source": [
    "### Notes : \n",
    "\n",
    "- try block can't exist without except\n",
    "- fianlly is always executed, but not mandatory\n",
    "- except and finally can't exist try block\n",
    "- we can have multiple except blocks that can highlight different excpetions\n",
    "- "
   ]
  },
  {
   "cell_type": "code",
   "execution_count": 28,
   "metadata": {},
   "outputs": [
    {
     "ename": "SyntaxError",
     "evalue": "invalid syntax (<ipython-input-28-8ec172d8186c>, line 4)",
     "output_type": "error",
     "traceback": [
      "\u001b[1;36m  File \u001b[1;32m\"<ipython-input-28-8ec172d8186c>\"\u001b[1;36m, line \u001b[1;32m4\u001b[0m\n\u001b[1;33m    finally :\u001b[0m\n\u001b[1;37m    ^\u001b[0m\n\u001b[1;31mSyntaxError\u001b[0m\u001b[1;31m:\u001b[0m invalid syntax\n"
     ]
    }
   ],
   "source": [
    "## Take care of any exception\n",
    "\n",
    "try : \n",
    "    \n",
    "    # Division\n",
    "    num = 100\n",
    "    den = 20\n",
    "    print(\"Division Action : \", num / den)\n",
    "\n",
    "except : \n",
    "    print(\"error\")\n",
    "    \n",
    "    \n",
    "finally : \n",
    "    print(\"---------- END ------------\")"
   ]
  },
  {
   "cell_type": "code",
   "execution_count": null,
   "metadata": {},
   "outputs": [],
   "source": []
  },
  {
   "cell_type": "code",
   "execution_count": null,
   "metadata": {},
   "outputs": [],
   "source": []
  },
  {
   "cell_type": "markdown",
   "metadata": {},
   "source": [
    "#### Best Program"
   ]
  },
  {
   "cell_type": "code",
   "execution_count": 31,
   "metadata": {},
   "outputs": [
    {
     "name": "stdout",
     "output_type": "stream",
     "text": [
      "------  Program Starts -----------------\n",
      "Division Action :  5.0\n",
      "zebra\n",
      "\n",
      "Hi All\n",
      "we are learning file handling on 29.01.23\n",
      "\n",
      " This is the Next Line\n",
      " ........ END\n",
      "------  Program Ends -----------------\n",
      " \n",
      "FINALLY BYE::: ---------- END ------------\n"
     ]
    }
   ],
   "source": [
    "## Take care of any exception\n",
    "\n",
    "try : \n",
    "    \n",
    "    print(\"------  Program Starts -----------------\")\n",
    "    \n",
    "    # Division\n",
    "    num = 100\n",
    "    den = 20\n",
    "    print(\"Division Action : \", num / den)\n",
    "    \n",
    "    # Index \n",
    "    animals = [\"lion\", 'tiger', \"zebra\", \"eagle\"]\n",
    "    print(animals[2])\n",
    "\n",
    "    # File\n",
    "    f = open(\"a2.txt\", \"r\")\n",
    "    print(f.read())\n",
    "    f.close()\n",
    "\n",
    "    print(\"------  Program Ends -----------------\")\n",
    "    \n",
    "\n",
    "except : \n",
    "    print(\"error\")\n",
    "    \n",
    "    \n",
    "finally : \n",
    "    print(\" \\nFINALLY BYE::: ---------- END ------------\")"
   ]
  },
  {
   "cell_type": "code",
   "execution_count": null,
   "metadata": {},
   "outputs": [],
   "source": []
  },
  {
   "cell_type": "markdown",
   "metadata": {},
   "source": [
    "#### Best Program : Catch the Error"
   ]
  },
  {
   "cell_type": "code",
   "execution_count": 38,
   "metadata": {},
   "outputs": [
    {
     "name": "stdout",
     "output_type": "stream",
     "text": [
      "------  Program Starts -----------------\n",
      "Division Action :  5.0\n",
      "Index Action :  lion\n",
      "File action :  \n",
      "Hi All\n",
      "we are learning file handling on 29.01.23\n",
      "\n",
      " This is the Next Line\n",
      " ........ END\n",
      "------  Program Ends -----------------\n",
      " \n",
      "FINALLY BYE::: ---------- END ------------\n"
     ]
    }
   ],
   "source": [
    "## Take care of any exception\n",
    "\n",
    "try : \n",
    "    \n",
    "    print(\"------  Program Starts -----------------\")\n",
    "    \n",
    "    # Division\n",
    "    num = 100\n",
    "    den = 20\n",
    "    print(\"Division Action : \", num / den)\n",
    "    \n",
    "    # Index \n",
    "    animals = [\"lion\", 'tiger', \"zebra\", \"eagle\"]\n",
    "    print(\"Index Action : \", animals[0])\n",
    "\n",
    "    # File\n",
    "    f = open(\"a2.txt\", \"r\")\n",
    "    print(\"File action : \", f.read())\n",
    "    f.close()\n",
    "\n",
    "    print(\"------  Program Ends -----------------\")\n",
    "    \n",
    "\n",
    "except : \n",
    "    print(\"error\")\n",
    "    \n",
    "    \n",
    "finally : \n",
    "    print(\" \\nFINALLY BYE::: ---------- END ------------\")"
   ]
  },
  {
   "cell_type": "code",
   "execution_count": null,
   "metadata": {},
   "outputs": [],
   "source": []
  },
  {
   "cell_type": "markdown",
   "metadata": {},
   "source": [
    "#### Best Program : Catch the Error with Exception reference"
   ]
  },
  {
   "cell_type": "code",
   "execution_count": 43,
   "metadata": {},
   "outputs": [
    {
     "name": "stdout",
     "output_type": "stream",
     "text": [
      "------  Program Starts -----------------\n",
      "Division Action :  5.0\n",
      "Index Action :  lion\n",
      "File action :  \n",
      "Hi All\n",
      "we are learning file handling on 29.01.23\n",
      "\n",
      " This is the Next Line\n",
      " ........ END\n",
      "------  Program Ends -----------------\n",
      " \n",
      "FINALLY BYE::: ---------- END ------------\n"
     ]
    }
   ],
   "source": [
    "## Take care of any exception\n",
    "\n",
    "try : \n",
    "    \n",
    "    print(\"------  Program Starts -----------------\")\n",
    "    \n",
    "    # Division\n",
    "    num = 100\n",
    "    den = 20\n",
    "    print(\"Division Action : \", num / den)\n",
    "    \n",
    "    # Index \n",
    "    animals = [\"lion\", 'tiger', \"zebra\", \"eagle\"]\n",
    "    print(\"Index Action : \", animals[0])\n",
    "\n",
    "    # File\n",
    "    f = open(\"a2.txt\", \"r\")\n",
    "    print(\"File action : \", f.read())\n",
    "    f.close()\n",
    "\n",
    "    print(\"------  Program Ends -----------------\")\n",
    "    \n",
    "\n",
    "except Exception as e: \n",
    "    print(\"error ==> \", e)\n",
    "    \n",
    "    \n",
    "finally : \n",
    "    print(\" \\nFINALLY BYE::: ---------- END ------------\")"
   ]
  },
  {
   "cell_type": "code",
   "execution_count": null,
   "metadata": {},
   "outputs": [],
   "source": [
    "## take a note of all those exceptions"
   ]
  },
  {
   "cell_type": "code",
   "execution_count": null,
   "metadata": {},
   "outputs": [],
   "source": []
  },
  {
   "cell_type": "markdown",
   "metadata": {},
   "source": [
    "#### Best Program : Catch the Error with specific Exception "
   ]
  },
  {
   "cell_type": "code",
   "execution_count": 53,
   "metadata": {},
   "outputs": [
    {
     "name": "stdout",
     "output_type": "stream",
     "text": [
      "------  Program Starts -----------------\n",
      " 2023-02-04     10 : 21\n",
      "Division Action :  5.0\n",
      "Index Action :  lion\n",
      "File is not there\n",
      " \n",
      "FINALLY BYE::: ---------- END ------------\n"
     ]
    }
   ],
   "source": [
    "## Take care of any exception\n",
    "\n",
    "try : \n",
    "    \n",
    "    print(\"------  Program Starts -----------------\")\n",
    "    \n",
    "    # Import Action\n",
    "    import parent\n",
    "    print(parent.getDateTime())\n",
    "\n",
    "\n",
    "    # Division\n",
    "    num = 100\n",
    "    den = 20\n",
    "    print(\"Division Action : \", num / den)\n",
    "    \n",
    "    # Index \n",
    "    animals = [\"lion\", 'tiger', \"zebra\", \"eagle\"]\n",
    "    print(\"Index Action : \", animals[0])\n",
    "\n",
    "    # File\n",
    "    f = open(\"a5.txt\", \"r\")\n",
    "    print(\"File action : \", f.read())\n",
    "    f.close()\n",
    "\n",
    "    print(\"------  Program Ends -----------------\")\n",
    "    \n",
    "\n",
    "except ZeroDivisionError : \n",
    "    print(\"Check the program with NEW denominator\")\n",
    "    \n",
    "except FileNotFoundError : \n",
    "    print(\"File is not there\")\n",
    "    \n",
    "except ModuleNotFoundError : \n",
    "    print(\"Module Name is Incorrect or Doesn't exist\")\n",
    "\n",
    "except Exception as e: \n",
    "    print(\"error ==> \", e)\n",
    "    \n",
    "    \n",
    "finally : \n",
    "    print(\" \\nFINALLY BYE::: ---------- END ------------\")"
   ]
  },
  {
   "cell_type": "code",
   "execution_count": null,
   "metadata": {},
   "outputs": [],
   "source": []
  },
  {
   "cell_type": "code",
   "execution_count": null,
   "metadata": {},
   "outputs": [],
   "source": []
  },
  {
   "cell_type": "markdown",
   "metadata": {},
   "source": [
    "## "
   ]
  },
  {
   "cell_type": "code",
   "execution_count": 55,
   "metadata": {
    "scrolled": true
   },
   "outputs": [
    {
     "name": "stdout",
     "output_type": "stream",
     "text": [
      "------  Program Starts -----------------\n",
      " 2023-02-04     10 : 24\n",
      "Division Action :  5.0\n",
      "Index Action :  lion\n",
      "Check the program with NEW denominator. Or File is not there\n",
      " \n",
      "FINALLY BYE::: ---------- END ------------\n"
     ]
    }
   ],
   "source": [
    "## Take care of any exception\n",
    "\n",
    "try : \n",
    "    \n",
    "    print(\"------  Program Starts -----------------\")\n",
    "    \n",
    "    # Import Action\n",
    "    import parent\n",
    "    print(parent.getDateTime())\n",
    "\n",
    "\n",
    "    # Division\n",
    "    num = 100\n",
    "    den = 20\n",
    "    print(\"Division Action : \", num / den)\n",
    "    \n",
    "    # Index \n",
    "    animals = [\"lion\", 'tiger', \"zebra\", \"eagle\"]\n",
    "    print(\"Index Action : \", animals[0])\n",
    "\n",
    "    # File\n",
    "    f = open(\"a5.txt\", \"r\")\n",
    "    print(\"File action : \", f.read())\n",
    "    f.close()\n",
    "\n",
    "    print(\"------  Program Ends -----------------\")\n",
    "    \n",
    "\n",
    "except (ZeroDivisionError, FileNotFoundError) : \n",
    "    print(\"Check the program with NEW denominator. Or File is not there\")\n",
    "        \n",
    "except ModuleNotFoundError : \n",
    "    print(\"Module Name is Incorrect or Doesn't exist\")\n",
    "\n",
    "except Exception as e: \n",
    "    print(\"error ==> \", e)\n",
    "    \n",
    "    \n",
    "finally : \n",
    "    print(\" \\nFINALLY BYE::: ---------- END ------------\")"
   ]
  },
  {
   "cell_type": "code",
   "execution_count": null,
   "metadata": {},
   "outputs": [],
   "source": []
  },
  {
   "cell_type": "code",
   "execution_count": 57,
   "metadata": {},
   "outputs": [
    {
     "name": "stdout",
     "output_type": "stream",
     "text": [
      "---------- END ------------\n"
     ]
    }
   ],
   "source": [
    "import logging\n",
    "\n",
    "logging.basicConfig( filename=\"log.txt\", level=logging.ERROR )\n",
    "\n",
    "## Take care of any exception\n",
    "\n",
    "try : \n",
    "    \n",
    "    # Division\n",
    "    num = 100\n",
    "    den = 0\n",
    "    print(\"Division Action : \", num / den)\n",
    "\n",
    "except Exception as e: \n",
    "    logging.exception(e)\n",
    "    \n",
    "    \n",
    "finally : \n",
    "    print(\"---------- END ------------\")\n"
   ]
  },
  {
   "cell_type": "code",
   "execution_count": null,
   "metadata": {},
   "outputs": [],
   "source": []
  },
  {
   "cell_type": "code",
   "execution_count": null,
   "metadata": {},
   "outputs": [],
   "source": []
  },
  {
   "cell_type": "code",
   "execution_count": null,
   "metadata": {},
   "outputs": [],
   "source": []
  },
  {
   "cell_type": "code",
   "execution_count": null,
   "metadata": {},
   "outputs": [],
   "source": []
  }
 ],
 "metadata": {
  "kernelspec": {
   "display_name": "Python 3",
   "language": "python",
   "name": "python3"
  },
  "language_info": {
   "codemirror_mode": {
    "name": "ipython",
    "version": 3
   },
   "file_extension": ".py",
   "mimetype": "text/x-python",
   "name": "python",
   "nbconvert_exporter": "python",
   "pygments_lexer": "ipython3",
   "version": "3.8.3"
  }
 },
 "nbformat": 4,
 "nbformat_minor": 4
}
